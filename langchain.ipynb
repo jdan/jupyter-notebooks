{
 "cells": [
  {
   "cell_type": "code",
   "execution_count": 19,
   "id": "1405da0d-2ed1-4f2c-b8a5-4effb29ea189",
   "metadata": {},
   "outputs": [
    {
     "name": "stdout",
     "output_type": "stream",
     "text": [
      "Collecting wikipedia\n",
      "  Downloading wikipedia-1.4.0.tar.gz (27 kB)\n",
      "  Preparing metadata (setup.py) ... \u001b[?25ldone\n",
      "\u001b[?25hRequirement already satisfied: beautifulsoup4 in /opt/homebrew/Caskroom/miniforge/base/lib/python3.10/site-packages (from wikipedia) (4.12.2)\n",
      "Requirement already satisfied: requests<3.0.0,>=2.0.0 in /opt/homebrew/Caskroom/miniforge/base/lib/python3.10/site-packages (from wikipedia) (2.29.0)\n",
      "Requirement already satisfied: charset-normalizer<4,>=2 in /opt/homebrew/Caskroom/miniforge/base/lib/python3.10/site-packages (from requests<3.0.0,>=2.0.0->wikipedia) (2.1.1)\n",
      "Requirement already satisfied: urllib3<1.27,>=1.21.1 in /opt/homebrew/Caskroom/miniforge/base/lib/python3.10/site-packages (from requests<3.0.0,>=2.0.0->wikipedia) (1.26.15)\n",
      "Requirement already satisfied: certifi>=2017.4.17 in /opt/homebrew/Caskroom/miniforge/base/lib/python3.10/site-packages (from requests<3.0.0,>=2.0.0->wikipedia) (2023.5.7)\n",
      "Requirement already satisfied: idna<4,>=2.5 in /opt/homebrew/Caskroom/miniforge/base/lib/python3.10/site-packages (from requests<3.0.0,>=2.0.0->wikipedia) (3.4)\n",
      "Requirement already satisfied: soupsieve>1.2 in /opt/homebrew/Caskroom/miniforge/base/lib/python3.10/site-packages (from beautifulsoup4->wikipedia) (2.3.2.post1)\n",
      "Building wheels for collected packages: wikipedia\n",
      "  Building wheel for wikipedia (setup.py) ... \u001b[?25ldone\n",
      "\u001b[?25h  Created wheel for wikipedia: filename=wikipedia-1.4.0-py3-none-any.whl size=11680 sha256=c09b02e3e429d5cc8d1d10f05bf42ac8dae8f8f1a4edea0d623aef0d84eeaa8f\n",
      "  Stored in directory: /Users/jdan/Library/Caches/pip/wheels/5e/b6/c5/93f3dec388ae76edc830cb42901bb0232504dfc0df02fc50de\n",
      "Successfully built wikipedia\n",
      "Installing collected packages: wikipedia\n",
      "Successfully installed wikipedia-1.4.0\n"
     ]
    }
   ],
   "source": [
    "!pip install wikipedia"
   ]
  },
  {
   "cell_type": "code",
   "execution_count": 2,
   "id": "739733b8-6222-44d6-87a1-38b44f420ce4",
   "metadata": {},
   "outputs": [
    {
     "data": {
      "text/plain": [
       "True"
      ]
     },
     "execution_count": 2,
     "metadata": {},
     "output_type": "execute_result"
    }
   ],
   "source": [
    "from dotenv import load_dotenv\n",
    "load_dotenv()"
   ]
  },
  {
   "cell_type": "code",
   "execution_count": 2,
   "id": "ee9d80a3-3f09-4974-a672-ab3bfdaae10d",
   "metadata": {},
   "outputs": [],
   "source": [
    "from langchain.llms import OpenAI\n",
    "llm = OpenAI(temperature=0.8)"
   ]
  },
  {
   "cell_type": "code",
   "execution_count": 3,
   "id": "0f654b20-67bf-406f-93e0-e97ec79155e1",
   "metadata": {},
   "outputs": [
    {
     "name": "stdout",
     "output_type": "stream",
     "text": [
      "\n",
      "\n",
      "Vivid Socksonality.\n"
     ]
    }
   ],
   "source": [
    "text = \"What would be a good company name for a company that makes colorful socks?\"\n",
    "print(llm(text))"
   ]
  },
  {
   "cell_type": "code",
   "execution_count": 4,
   "id": "fdd038c1-c70d-457d-8758-17b5952624a9",
   "metadata": {},
   "outputs": [
    {
     "name": "stdout",
     "output_type": "stream",
     "text": [
      "What is a good name for a company that makes colorful socks?\n"
     ]
    }
   ],
   "source": [
    "from langchain.prompts import PromptTemplate\n",
    "\n",
    "prompt = PromptTemplate(\n",
    "    input_variables=[\"product\"],\n",
    "    template=\"What is a good name for a company that makes {product}?\",\n",
    ")\n",
    "print(prompt.format(product=\"colorful socks\"))"
   ]
  },
  {
   "cell_type": "code",
   "execution_count": 5,
   "id": "5c7351bf-3a29-4935-bcfb-ce3e01000b0e",
   "metadata": {},
   "outputs": [
    {
     "data": {
      "text/plain": [
       "'\\n\\nRainbow Toes Socks.'"
      ]
     },
     "execution_count": 5,
     "metadata": {},
     "output_type": "execute_result"
    }
   ],
   "source": [
    "from langchain.chains import LLMChain\n",
    "chain = LLMChain(llm=llm, prompt=prompt)\n",
    "chain.run(\"colorful socks\")"
   ]
  },
  {
   "cell_type": "code",
   "execution_count": 6,
   "id": "3d6fb788-b196-46a1-b077-39f321e8459c",
   "metadata": {},
   "outputs": [
    {
     "name": "stdout",
     "output_type": "stream",
     "text": [
      "\n",
      "\n",
      "\u001b[1m> Entering new AgentExecutor chain...\u001b[0m\n",
      "\u001b[32;1m\u001b[1;3m I need to find out who Leo DiCaprio's girlfriend is and then find her age and raise it to a certain power.\n",
      "Action: Search\n",
      "Action Input: \"Leo DiCaprio girlfriend\"\u001b[0m\n",
      "Observation: \u001b[36;1m\u001b[1;3mHe went on to date Gisele Bündchen, Bar Refaeli, Blake Lively, Toni Garrn and Nina Agdal, among others, before finally settling down with current girlfriend Camila Morrone, who is 23 years his junior.\u001b[0m\n",
      "Thought:\u001b[32;1m\u001b[1;3m I now need to calculate 0.43 power of 23\n",
      "Action: Calculator\n",
      "Action Input: 23^0.43\u001b[0m\n",
      "Observation: \u001b[33;1m\u001b[1;3mAnswer: 3.8507291225496925\u001b[0m\n",
      "Thought:\u001b[32;1m\u001b[1;3m I now know the final answer\n",
      "Final Answer: Camila Morrone is Leo DiCaprio's girlfriend and her current age raised to the 0.43 power is 3.8507291225496925.\u001b[0m\n",
      "\n",
      "\u001b[1m> Finished chain.\u001b[0m\n"
     ]
    },
    {
     "data": {
      "text/plain": [
       "\"Camila Morrone is Leo DiCaprio's girlfriend and her current age raised to the 0.43 power is 3.8507291225496925.\""
      ]
     },
     "execution_count": 6,
     "metadata": {},
     "output_type": "execute_result"
    }
   ],
   "source": [
    "from langchain.agents import load_tools\n",
    "from langchain.agents import initialize_agent\n",
    "from langchain.agents import AgentType\n",
    "from langchain.llms import OpenAI\n",
    "\n",
    "tools = load_tools([\"serpapi\", \"llm-math\"], llm=llm)\n",
    "agent = initialize_agent(tools, llm, agent=AgentType.ZERO_SHOT_REACT_DESCRIPTION, verbose=True)\n",
    "\n",
    "agent.run(\"Who is Leo DiCaprio's girlfriend? What is her current age raised to the 0.43 power?\")"
   ]
  },
  {
   "cell_type": "code",
   "execution_count": 18,
   "id": "2583cc55-6e12-49be-849c-167126da3e96",
   "metadata": {},
   "outputs": [
    {
     "name": "stdout",
     "output_type": "stream",
     "text": [
      "\n",
      "\n",
      "\u001b[1m> Entering new AgentExecutor chain...\u001b[0m\n",
      "\u001b[32;1m\u001b[1;3m I need to find out the temperature in fahrenheit first.\n",
      "Action: Human\n",
      "Action Input: What's the temperature in New York today?\u001b[0m\n",
      "\n",
      "What's the temperature in New York today?\n"
     ]
    },
    {
     "name": "stdin",
     "output_type": "stream",
     "text": [
      " 68\n"
     ]
    },
    {
     "name": "stdout",
     "output_type": "stream",
     "text": [
      "\n",
      "Observation: \u001b[36;1m\u001b[1;3m68\u001b[0m\n",
      "Thought:\u001b[32;1m\u001b[1;3m I need to convert 68 degrees fahrenheit to celsius.\n",
      "Action: Calculator\n",
      "Action Input: 68 F to C\u001b[0m\n",
      "Observation: \u001b[33;1m\u001b[1;3mAnswer: 20.0\u001b[0m\n",
      "Thought:\u001b[32;1m\u001b[1;3m I now know the final answer.\n",
      "Final Answer: 20.0 degrees celsius\u001b[0m\n",
      "\n",
      "\u001b[1m> Finished chain.\u001b[0m\n"
     ]
    },
    {
     "data": {
      "text/plain": [
       "'20.0 degrees celsius'"
      ]
     },
     "execution_count": 18,
     "metadata": {},
     "output_type": "execute_result"
    }
   ],
   "source": [
    "from langchain.agents import load_tools\n",
    "from langchain.agents import initialize_agent\n",
    "from langchain.agents import AgentType\n",
    "from langchain.llms import OpenAI\n",
    "\n",
    "llm = OpenAI(temperature=0)\n",
    "math_llm = OpenAI(temperature=0.0)\n",
    "tools = load_tools([\"human\", \"llm-math\"], llm=math_llm)\n",
    "agent = initialize_agent(tools, llm, agent=AgentType.ZERO_SHOT_REACT_DESCRIPTION, verbose=True)\n",
    "\n",
    "agent.run(\"What's the weather in NY today? Convert it from fahrenheit to celsius.\")"
   ]
  },
  {
   "cell_type": "code",
   "execution_count": 77,
   "id": "85b486fa-0195-4d3d-86da-1a815fb16369",
   "metadata": {},
   "outputs": [
    {
     "name": "stdout",
     "output_type": "stream",
     "text": [
      "\n",
      "\n",
      "\u001b[1m> Entering new AgentExecutor chain...\u001b[0m\n",
      "\u001b[32;1m\u001b[1;3m What topic should I ask the human for?\n",
      "Action: Human\n",
      "Action Input: What is a good topic to search on Wikipedia?\u001b[0m\n",
      "\n",
      "What is a good topic to search on Wikipedia?\n"
     ]
    },
    {
     "name": "stdin",
     "output_type": "stream",
     "text": [
      " project xanadu\n"
     ]
    },
    {
     "name": "stdout",
     "output_type": "stream",
     "text": [
      "\n",
      "Observation: \u001b[36;1m\u001b[1;3mproject xanadu\u001b[0m\n",
      "Thought:\u001b[32;1m\u001b[1;3m What is project xanadu?\n",
      "Action: Search wikipedia\n",
      "Action Input: project xanadu\u001b[0m\n",
      "Observation: \u001b[33;1m\u001b[1;3mProject Xanadu ( ZAN-ə-doo) was the first hypertext project, founded in 1960 by Ted Nelson. Administrators of Project Xanadu have declared it superior to the World Wide Web, with the mission statement: \"Today's popular software simulates paper. The World Wide Web (another imitation of paper) trivialises our original hypertext model with one-way ever-breaking links and no management of version or contents.\"Wired magazine published an article called \"The Curse of Xanadu\", calling Project Xanadu \"the longest-running vaporware story in the history of the computer industry\". The first attempt at implementation began in 1960, but it was not until 1998 that an incomplete implementation was released. A version described as \"a working deliverable\", OpenXanadu, was made available in 2014.\n",
      "\n",
      "\n",
      "== History ==\n",
      "Nelson's vision was for a \"digital repository scheme for world-wide electronic publishing\". Nelson states that the idea began in 1960, when he was a student at Harvard University. He proposed a machine-language program which would store and display documents, together with the ability to perform edits. This was different from a word processor (which was not invented yet) in that the functionality would have included visual comparisons of different versions of the document, a concept Nelson would later call \"intercomparison\".On top of this basic idea, Nelson wanted to facilitate nonsequential writing, in which the reader could choose their own path through an electronic document. He built upon this idea in a paper to the Association for Computing Machinery (ACM) in 1965, calling the new idea \"zippered lists\". These zippered lists would allow compound documents to be formed from pieces of other documents, a concept named transclusion. In 1967, while working for Harcourt, Brace, he named his project Xanadu, in honour of the poem \"Kubla Khan\" by Samuel Taylor Coleridge.Nelson's talk at the ACM predicted many of the features of today's hypertext systems, but at the time, his ideas had little impact. Though researchers were intrigued by his ideas, Nelson lacked the technical knowledge to demonstrate that the ideas could be implemented.\n",
      "\n",
      "\n",
      "=== 1970s ===\n",
      "Ted Nelson published his ideas in his 1974 book Computer Lib/Dream Machines and the 1981 Literary Machines.\n",
      "Computer Lib/Dream Machines is written in a non-sequential fashion: it is a compilation of Nelson's thoughts about computing, among other topics, in no particular order.  It contains two books, printed back to back, to be flipped between. Computer Lib contains Nelson's thoughts on topics which angered him, while Dream Machines discusses his hopes for the potential of computers to assist the arts.\n",
      "In 1972, Cal Daniels completed the first demonstration version of the Xanadu software on a computer Nelson had rented for the purpose, though Nelson soon ran out of money.  In 1974, with the advent of computer networking, Nelson refined his thoughts about Xanadu into a centralised source of information, calling it a \"docuverse\".\n",
      "In the summer of 1979, Nelson led the latest group of his followers, Roger Gregory, Mark S. Miller and Stuart Greene, to Swarthmore, Pennsylvania. In a house rented by Greene, they hashed out their ideas for Xanadu; but at the end of the summer the group went their separate ways.  Miller and Gregory created an addressing system based on transfinite numbers which they called tumblers, which allowed any part of a file to be referenced.\n",
      "\n",
      "\n",
      "=== 1980s ===\n",
      "The group continued their work, almost to the point of bankruptcy. In 1983, however, Nelson met John Walker, founder of Autodesk, at The Hackers Conference, a conference originally for the people mentioned in Steven Levy's Hackers, and the group started working on Xanadu with Autodesk's financial backing.\n",
      "According to economist Robin Hanson, in 1990 the first known corporate prediction market was used at Xanadu. Employees and consultants used it for example to bet on the cold fusion controversy at the time.\n",
      "While at Autodesk, t\u001b[0m\n",
      "Thought:\u001b[32;1m\u001b[1;3m I now know the final answer\n",
      "Final Answer: Project Xanadu was the first hypertext project, founded in 1960 by Ted Nelson, with the mission statement of simulating paper and being superior to the World Wide Web.\u001b[0m\n",
      "\n",
      "\u001b[1m> Finished chain.\u001b[0m\n"
     ]
    },
    {
     "data": {
      "text/plain": [
       "'Project Xanadu was the first hypertext project, founded in 1960 by Ted Nelson, with the mission statement of simulating paper and being superior to the World Wide Web.'"
      ]
     },
     "execution_count": 77,
     "metadata": {},
     "output_type": "execute_result"
    }
   ],
   "source": [
    "from langchain.agents import load_tools\n",
    "from langchain.agents import initialize_agent\n",
    "from langchain.agents import AgentType\n",
    "from langchain.tools import BaseTool, StructuredTool, Tool, tool\n",
    "from langchain.llms import OpenAI\n",
    "from langchain.document_loaders import WikipediaLoader\n",
    "\n",
    "llm = OpenAI(temperature=0)\n",
    "\n",
    "@tool(\"Search wikipedia\")\n",
    "def search_wikipedia(str):\n",
    "    \"\"\"Searches wikipedia for a topic\"\"\"\n",
    "    # todo: load more than 4000 characters\n",
    "    docs = WikipediaLoader(query=str, load_max_docs=1).load()\n",
    "    return docs[0].page_content\n",
    "\n",
    "tools = load_tools([\"human\"], llm=llm)\n",
    "tools.append(search_wikipedia)\n",
    "\n",
    "agent = initialize_agent(tools, llm, agent=AgentType.ZERO_SHOT_REACT_DESCRIPTION, verbose=True)\n",
    "\n",
    "agent.run(\"Ask the human for a topic. Search wikipedia for that topic. Summarize to no more than 10 words in length.\")"
   ]
  }
 ],
 "metadata": {
  "kernelspec": {
   "display_name": "Python 3 (ipykernel)",
   "language": "python",
   "name": "python3"
  },
  "language_info": {
   "codemirror_mode": {
    "name": "ipython",
    "version": 3
   },
   "file_extension": ".py",
   "mimetype": "text/x-python",
   "name": "python",
   "nbconvert_exporter": "python",
   "pygments_lexer": "ipython3",
   "version": "3.10.10"
  }
 },
 "nbformat": 4,
 "nbformat_minor": 5
}
